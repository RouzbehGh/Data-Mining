{
  "nbformat": 4,
  "nbformat_minor": 0,
  "metadata": {
    "colab": {
      "name": "Codes.ipynb",
      "provenance": [],
      "collapsed_sections": []
    },
    "kernelspec": {
      "name": "python3",
      "display_name": "Python 3"
    },
    "accelerator": "GPU"
  },
  "cells": [
    {
      "cell_type": "markdown",
      "metadata": {
        "id": "q9JO9RG6ZB5G",
        "colab_type": "text"
      },
      "source": [
        "**Connect to my google drive**"
      ]
    },
    {
      "cell_type": "code",
      "metadata": {
        "id": "Z2kdy2J5XSCX",
        "colab_type": "code",
        "outputId": "d918b246-30ff-4c2a-dc1f-8f018cdd7213",
        "colab": {
          "base_uri": "https://localhost:8080/",
          "height": 35
        }
      },
      "source": [
        "from google.colab import drive\n",
        "drive.mount('/content/drive')"
      ],
      "execution_count": 1,
      "outputs": [
        {
          "output_type": "stream",
          "text": [
            "Drive already mounted at /content/drive; to attempt to forcibly remount, call drive.mount(\"/content/drive\", force_remount=True).\n"
          ],
          "name": "stdout"
        }
      ]
    },
    {
      "cell_type": "markdown",
      "metadata": {
        "id": "h3In3KGCZpfQ",
        "colab_type": "text"
      },
      "source": [
        "**Section A** "
      ]
    },
    {
      "cell_type": "markdown",
      "metadata": {
        "id": "Myr88QgOYQPw",
        "colab_type": "text"
      },
      "source": [
        "**Read data from dataset file**"
      ]
    },
    {
      "cell_type": "code",
      "metadata": {
        "id": "6XUp0d_yXu9j",
        "colab_type": "code",
        "colab": {}
      },
      "source": [
        "import pandas as pd\n",
        "data = pd.read_csv('/content/drive/My Drive/Data Mining/HW1/data.csv')"
      ],
      "execution_count": 0,
      "outputs": []
    },
    {
      "cell_type": "markdown",
      "metadata": {
        "id": "jXeYY2RQ3IfW",
        "colab_type": "text"
      },
      "source": [
        "**Show dataset in one table**"
      ]
    },
    {
      "cell_type": "code",
      "metadata": {
        "id": "TUBQm6Ax3GJY",
        "colab_type": "code",
        "colab": {
          "base_uri": "https://localhost:8080/",
          "height": 424
        },
        "outputId": "a767f91c-7659-4411-c8b1-cc48fecf511a"
      },
      "source": [
        "data"
      ],
      "execution_count": 3,
      "outputs": [
        {
          "output_type": "execute_result",
          "data": {
            "text/html": [
              "<div>\n",
              "<style scoped>\n",
              "    .dataframe tbody tr th:only-of-type {\n",
              "        vertical-align: middle;\n",
              "    }\n",
              "\n",
              "    .dataframe tbody tr th {\n",
              "        vertical-align: top;\n",
              "    }\n",
              "\n",
              "    .dataframe thead th {\n",
              "        text-align: right;\n",
              "    }\n",
              "</style>\n",
              "<table border=\"1\" class=\"dataframe\">\n",
              "  <thead>\n",
              "    <tr style=\"text-align: right;\">\n",
              "      <th></th>\n",
              "      <th>id</th>\n",
              "      <th>sex</th>\n",
              "      <th>birth_year</th>\n",
              "      <th>country</th>\n",
              "      <th>region</th>\n",
              "      <th>infection_reason</th>\n",
              "      <th>infected_by</th>\n",
              "      <th>confirmed_date</th>\n",
              "      <th>state</th>\n",
              "    </tr>\n",
              "  </thead>\n",
              "  <tbody>\n",
              "    <tr>\n",
              "      <th>0</th>\n",
              "      <td>1</td>\n",
              "      <td>female</td>\n",
              "      <td>1984.0</td>\n",
              "      <td>China</td>\n",
              "      <td>filtered at airport</td>\n",
              "      <td>visit to Wuhan</td>\n",
              "      <td>NaN</td>\n",
              "      <td>1/20/2020</td>\n",
              "      <td>released</td>\n",
              "    </tr>\n",
              "    <tr>\n",
              "      <th>1</th>\n",
              "      <td>2</td>\n",
              "      <td>male</td>\n",
              "      <td>1964.0</td>\n",
              "      <td>Korea</td>\n",
              "      <td>filtered at airport</td>\n",
              "      <td>visit to Wuhan</td>\n",
              "      <td>NaN</td>\n",
              "      <td>1/24/2020</td>\n",
              "      <td>released</td>\n",
              "    </tr>\n",
              "    <tr>\n",
              "      <th>2</th>\n",
              "      <td>3</td>\n",
              "      <td>male</td>\n",
              "      <td>1966.0</td>\n",
              "      <td>Korea</td>\n",
              "      <td>capital area</td>\n",
              "      <td>visit to Wuhan</td>\n",
              "      <td>NaN</td>\n",
              "      <td>1/26/2020</td>\n",
              "      <td>released</td>\n",
              "    </tr>\n",
              "    <tr>\n",
              "      <th>3</th>\n",
              "      <td>4</td>\n",
              "      <td>male</td>\n",
              "      <td>1964.0</td>\n",
              "      <td>Korea</td>\n",
              "      <td>capital area</td>\n",
              "      <td>visit to Wuhan</td>\n",
              "      <td>NaN</td>\n",
              "      <td>1/27/2020</td>\n",
              "      <td>released</td>\n",
              "    </tr>\n",
              "    <tr>\n",
              "      <th>4</th>\n",
              "      <td>5</td>\n",
              "      <td>male</td>\n",
              "      <td>1987.0</td>\n",
              "      <td>Korea</td>\n",
              "      <td>capital area</td>\n",
              "      <td>visit to Wuhan</td>\n",
              "      <td>NaN</td>\n",
              "      <td>1/30/2020</td>\n",
              "      <td>released</td>\n",
              "    </tr>\n",
              "    <tr>\n",
              "      <th>...</th>\n",
              "      <td>...</td>\n",
              "      <td>...</td>\n",
              "      <td>...</td>\n",
              "      <td>...</td>\n",
              "      <td>...</td>\n",
              "      <td>...</td>\n",
              "      <td>...</td>\n",
              "      <td>...</td>\n",
              "      <td>...</td>\n",
              "    </tr>\n",
              "    <tr>\n",
              "      <th>171</th>\n",
              "      <td>172</td>\n",
              "      <td>female</td>\n",
              "      <td>1997.0</td>\n",
              "      <td>Korea</td>\n",
              "      <td>Gyeongsangbuk-do</td>\n",
              "      <td>NaN</td>\n",
              "      <td>NaN</td>\n",
              "      <td>2/24/2020</td>\n",
              "      <td>isolated</td>\n",
              "    </tr>\n",
              "    <tr>\n",
              "      <th>172</th>\n",
              "      <td>173</td>\n",
              "      <td>male</td>\n",
              "      <td>1949.0</td>\n",
              "      <td>Korea</td>\n",
              "      <td>Daegu</td>\n",
              "      <td>NaN</td>\n",
              "      <td>NaN</td>\n",
              "      <td>2/24/2020</td>\n",
              "      <td>deceased</td>\n",
              "    </tr>\n",
              "    <tr>\n",
              "      <th>173</th>\n",
              "      <td>174</td>\n",
              "      <td>female</td>\n",
              "      <td>1958.0</td>\n",
              "      <td>Korea</td>\n",
              "      <td>Gyeongsangbuk-do</td>\n",
              "      <td>NaN</td>\n",
              "      <td>NaN</td>\n",
              "      <td>2/24/2020</td>\n",
              "      <td>isolated</td>\n",
              "    </tr>\n",
              "    <tr>\n",
              "      <th>174</th>\n",
              "      <td>175</td>\n",
              "      <td>male</td>\n",
              "      <td>1997.0</td>\n",
              "      <td>Korea</td>\n",
              "      <td>Gyeongsangbuk-do</td>\n",
              "      <td>NaN</td>\n",
              "      <td>NaN</td>\n",
              "      <td>2/24/2020</td>\n",
              "      <td>isolated</td>\n",
              "    </tr>\n",
              "    <tr>\n",
              "      <th>175</th>\n",
              "      <td>176</td>\n",
              "      <td>female</td>\n",
              "      <td>1950.0</td>\n",
              "      <td>Korea</td>\n",
              "      <td>capital area</td>\n",
              "      <td>NaN</td>\n",
              "      <td>NaN</td>\n",
              "      <td>2/24/2020</td>\n",
              "      <td>isolated</td>\n",
              "    </tr>\n",
              "  </tbody>\n",
              "</table>\n",
              "<p>176 rows × 9 columns</p>\n",
              "</div>"
            ],
            "text/plain": [
              "      id     sex  birth_year  ... infected_by confirmed_date     state\n",
              "0      1  female      1984.0  ...         NaN      1/20/2020  released\n",
              "1      2    male      1964.0  ...         NaN      1/24/2020  released\n",
              "2      3    male      1966.0  ...         NaN      1/26/2020  released\n",
              "3      4    male      1964.0  ...         NaN      1/27/2020  released\n",
              "4      5    male      1987.0  ...         NaN      1/30/2020  released\n",
              "..   ...     ...         ...  ...         ...            ...       ...\n",
              "171  172  female      1997.0  ...         NaN      2/24/2020  isolated\n",
              "172  173    male      1949.0  ...         NaN      2/24/2020  deceased\n",
              "173  174  female      1958.0  ...         NaN      2/24/2020  isolated\n",
              "174  175    male      1997.0  ...         NaN      2/24/2020  isolated\n",
              "175  176  female      1950.0  ...         NaN      2/24/2020  isolated\n",
              "\n",
              "[176 rows x 9 columns]"
            ]
          },
          "metadata": {
            "tags": []
          },
          "execution_count": 3
        }
      ]
    },
    {
      "cell_type": "markdown",
      "metadata": {
        "id": "zIYzruMKYiVE",
        "colab_type": "text"
      },
      "source": [
        "\n",
        "**Show the head of dataset**"
      ]
    },
    {
      "cell_type": "code",
      "metadata": {
        "id": "PJeRbC3QYDDQ",
        "colab_type": "code",
        "outputId": "91445d10-ae0e-4ace-d2b5-82f5a4fb4cf6",
        "colab": {
          "base_uri": "https://localhost:8080/",
          "height": 206
        }
      },
      "source": [
        "data.head()"
      ],
      "execution_count": 4,
      "outputs": [
        {
          "output_type": "execute_result",
          "data": {
            "text/html": [
              "<div>\n",
              "<style scoped>\n",
              "    .dataframe tbody tr th:only-of-type {\n",
              "        vertical-align: middle;\n",
              "    }\n",
              "\n",
              "    .dataframe tbody tr th {\n",
              "        vertical-align: top;\n",
              "    }\n",
              "\n",
              "    .dataframe thead th {\n",
              "        text-align: right;\n",
              "    }\n",
              "</style>\n",
              "<table border=\"1\" class=\"dataframe\">\n",
              "  <thead>\n",
              "    <tr style=\"text-align: right;\">\n",
              "      <th></th>\n",
              "      <th>id</th>\n",
              "      <th>sex</th>\n",
              "      <th>birth_year</th>\n",
              "      <th>country</th>\n",
              "      <th>region</th>\n",
              "      <th>infection_reason</th>\n",
              "      <th>infected_by</th>\n",
              "      <th>confirmed_date</th>\n",
              "      <th>state</th>\n",
              "    </tr>\n",
              "  </thead>\n",
              "  <tbody>\n",
              "    <tr>\n",
              "      <th>0</th>\n",
              "      <td>1</td>\n",
              "      <td>female</td>\n",
              "      <td>1984.0</td>\n",
              "      <td>China</td>\n",
              "      <td>filtered at airport</td>\n",
              "      <td>visit to Wuhan</td>\n",
              "      <td>NaN</td>\n",
              "      <td>1/20/2020</td>\n",
              "      <td>released</td>\n",
              "    </tr>\n",
              "    <tr>\n",
              "      <th>1</th>\n",
              "      <td>2</td>\n",
              "      <td>male</td>\n",
              "      <td>1964.0</td>\n",
              "      <td>Korea</td>\n",
              "      <td>filtered at airport</td>\n",
              "      <td>visit to Wuhan</td>\n",
              "      <td>NaN</td>\n",
              "      <td>1/24/2020</td>\n",
              "      <td>released</td>\n",
              "    </tr>\n",
              "    <tr>\n",
              "      <th>2</th>\n",
              "      <td>3</td>\n",
              "      <td>male</td>\n",
              "      <td>1966.0</td>\n",
              "      <td>Korea</td>\n",
              "      <td>capital area</td>\n",
              "      <td>visit to Wuhan</td>\n",
              "      <td>NaN</td>\n",
              "      <td>1/26/2020</td>\n",
              "      <td>released</td>\n",
              "    </tr>\n",
              "    <tr>\n",
              "      <th>3</th>\n",
              "      <td>4</td>\n",
              "      <td>male</td>\n",
              "      <td>1964.0</td>\n",
              "      <td>Korea</td>\n",
              "      <td>capital area</td>\n",
              "      <td>visit to Wuhan</td>\n",
              "      <td>NaN</td>\n",
              "      <td>1/27/2020</td>\n",
              "      <td>released</td>\n",
              "    </tr>\n",
              "    <tr>\n",
              "      <th>4</th>\n",
              "      <td>5</td>\n",
              "      <td>male</td>\n",
              "      <td>1987.0</td>\n",
              "      <td>Korea</td>\n",
              "      <td>capital area</td>\n",
              "      <td>visit to Wuhan</td>\n",
              "      <td>NaN</td>\n",
              "      <td>1/30/2020</td>\n",
              "      <td>released</td>\n",
              "    </tr>\n",
              "  </tbody>\n",
              "</table>\n",
              "</div>"
            ],
            "text/plain": [
              "   id     sex  birth_year  ... infected_by confirmed_date     state\n",
              "0   1  female      1984.0  ...         NaN      1/20/2020  released\n",
              "1   2    male      1964.0  ...         NaN      1/24/2020  released\n",
              "2   3    male      1966.0  ...         NaN      1/26/2020  released\n",
              "3   4    male      1964.0  ...         NaN      1/27/2020  released\n",
              "4   5    male      1987.0  ...         NaN      1/30/2020  released\n",
              "\n",
              "[5 rows x 9 columns]"
            ]
          },
          "metadata": {
            "tags": []
          },
          "execution_count": 4
        }
      ]
    },
    {
      "cell_type": "markdown",
      "metadata": {
        "id": "g3KeTEBAYme6",
        "colab_type": "text"
      },
      "source": [
        "**Show the end of dataset**"
      ]
    },
    {
      "cell_type": "code",
      "metadata": {
        "id": "ckuFq7DjYKnC",
        "colab_type": "code",
        "outputId": "a1150f34-fe00-4eb0-aca3-7e51a0b6b4b3",
        "colab": {
          "base_uri": "https://localhost:8080/",
          "height": 206
        }
      },
      "source": [
        "data.tail()"
      ],
      "execution_count": 5,
      "outputs": [
        {
          "output_type": "execute_result",
          "data": {
            "text/html": [
              "<div>\n",
              "<style scoped>\n",
              "    .dataframe tbody tr th:only-of-type {\n",
              "        vertical-align: middle;\n",
              "    }\n",
              "\n",
              "    .dataframe tbody tr th {\n",
              "        vertical-align: top;\n",
              "    }\n",
              "\n",
              "    .dataframe thead th {\n",
              "        text-align: right;\n",
              "    }\n",
              "</style>\n",
              "<table border=\"1\" class=\"dataframe\">\n",
              "  <thead>\n",
              "    <tr style=\"text-align: right;\">\n",
              "      <th></th>\n",
              "      <th>id</th>\n",
              "      <th>sex</th>\n",
              "      <th>birth_year</th>\n",
              "      <th>country</th>\n",
              "      <th>region</th>\n",
              "      <th>infection_reason</th>\n",
              "      <th>infected_by</th>\n",
              "      <th>confirmed_date</th>\n",
              "      <th>state</th>\n",
              "    </tr>\n",
              "  </thead>\n",
              "  <tbody>\n",
              "    <tr>\n",
              "      <th>171</th>\n",
              "      <td>172</td>\n",
              "      <td>female</td>\n",
              "      <td>1997.0</td>\n",
              "      <td>Korea</td>\n",
              "      <td>Gyeongsangbuk-do</td>\n",
              "      <td>NaN</td>\n",
              "      <td>NaN</td>\n",
              "      <td>2/24/2020</td>\n",
              "      <td>isolated</td>\n",
              "    </tr>\n",
              "    <tr>\n",
              "      <th>172</th>\n",
              "      <td>173</td>\n",
              "      <td>male</td>\n",
              "      <td>1949.0</td>\n",
              "      <td>Korea</td>\n",
              "      <td>Daegu</td>\n",
              "      <td>NaN</td>\n",
              "      <td>NaN</td>\n",
              "      <td>2/24/2020</td>\n",
              "      <td>deceased</td>\n",
              "    </tr>\n",
              "    <tr>\n",
              "      <th>173</th>\n",
              "      <td>174</td>\n",
              "      <td>female</td>\n",
              "      <td>1958.0</td>\n",
              "      <td>Korea</td>\n",
              "      <td>Gyeongsangbuk-do</td>\n",
              "      <td>NaN</td>\n",
              "      <td>NaN</td>\n",
              "      <td>2/24/2020</td>\n",
              "      <td>isolated</td>\n",
              "    </tr>\n",
              "    <tr>\n",
              "      <th>174</th>\n",
              "      <td>175</td>\n",
              "      <td>male</td>\n",
              "      <td>1997.0</td>\n",
              "      <td>Korea</td>\n",
              "      <td>Gyeongsangbuk-do</td>\n",
              "      <td>NaN</td>\n",
              "      <td>NaN</td>\n",
              "      <td>2/24/2020</td>\n",
              "      <td>isolated</td>\n",
              "    </tr>\n",
              "    <tr>\n",
              "      <th>175</th>\n",
              "      <td>176</td>\n",
              "      <td>female</td>\n",
              "      <td>1950.0</td>\n",
              "      <td>Korea</td>\n",
              "      <td>capital area</td>\n",
              "      <td>NaN</td>\n",
              "      <td>NaN</td>\n",
              "      <td>2/24/2020</td>\n",
              "      <td>isolated</td>\n",
              "    </tr>\n",
              "  </tbody>\n",
              "</table>\n",
              "</div>"
            ],
            "text/plain": [
              "      id     sex  birth_year  ... infected_by confirmed_date     state\n",
              "171  172  female      1997.0  ...         NaN      2/24/2020  isolated\n",
              "172  173    male      1949.0  ...         NaN      2/24/2020  deceased\n",
              "173  174  female      1958.0  ...         NaN      2/24/2020  isolated\n",
              "174  175    male      1997.0  ...         NaN      2/24/2020  isolated\n",
              "175  176  female      1950.0  ...         NaN      2/24/2020  isolated\n",
              "\n",
              "[5 rows x 9 columns]"
            ]
          },
          "metadata": {
            "tags": []
          },
          "execution_count": 5
        }
      ]
    },
    {
      "cell_type": "markdown",
      "metadata": {
        "id": "XpBVaGNmZ0Vx",
        "colab_type": "text"
      },
      "source": [
        "**Section B** "
      ]
    },
    {
      "cell_type": "markdown",
      "metadata": {
        "id": "X2b6_3wlYobq",
        "colab_type": "text"
      },
      "source": [
        "**Show the shape of dataset**\n",
        "\n",
        "\n",
        "This dataset contains 176 data which have nine attributes for each data\n"
      ]
    },
    {
      "cell_type": "code",
      "metadata": {
        "id": "47Iz_zbEYLuH",
        "colab_type": "code",
        "outputId": "b863cb6d-a589-4275-af89-20386cb083e8",
        "colab": {
          "base_uri": "https://localhost:8080/",
          "height": 35
        }
      },
      "source": [
        "data.shape"
      ],
      "execution_count": 6,
      "outputs": [
        {
          "output_type": "execute_result",
          "data": {
            "text/plain": [
              "(176, 9)"
            ]
          },
          "metadata": {
            "tags": []
          },
          "execution_count": 6
        }
      ]
    },
    {
      "cell_type": "markdown",
      "metadata": {
        "id": "RvreAujsZI4q",
        "colab_type": "text"
      },
      "source": [
        "**With this instruction we could find the information of dataset**\n",
        "\n",
        " it shows the name of each attribute with the type of them and etc."
      ]
    },
    {
      "cell_type": "code",
      "metadata": {
        "id": "rD6yNiUSZJ8Q",
        "colab_type": "code",
        "outputId": "aca9cd11-d370-4f1c-c8ec-c41be1255776",
        "colab": {
          "base_uri": "https://localhost:8080/",
          "height": 271
        }
      },
      "source": [
        "data.info()"
      ],
      "execution_count": 7,
      "outputs": [
        {
          "output_type": "stream",
          "text": [
            "<class 'pandas.core.frame.DataFrame'>\n",
            "RangeIndex: 176 entries, 0 to 175\n",
            "Data columns (total 9 columns):\n",
            "id                  176 non-null int64\n",
            "sex                 176 non-null object\n",
            "birth_year          166 non-null float64\n",
            "country             176 non-null object\n",
            "region              166 non-null object\n",
            "infection_reason    95 non-null object\n",
            "infected_by         42 non-null float64\n",
            "confirmed_date      176 non-null object\n",
            "state               176 non-null object\n",
            "dtypes: float64(2), int64(1), object(6)\n",
            "memory usage: 12.5+ KB\n"
          ],
          "name": "stdout"
        }
      ]
    },
    {
      "cell_type": "markdown",
      "metadata": {
        "id": "p07f_mbeaAxI",
        "colab_type": "text"
      },
      "source": [
        "**Section C** "
      ]
    },
    {
      "cell_type": "code",
      "metadata": {
        "id": "15Xjp1UDZnLM",
        "colab_type": "code",
        "outputId": "4589075c-c6f6-4c0b-dd78-74e3bd6b5cc5",
        "colab": {
          "base_uri": "https://localhost:8080/",
          "height": 53
        }
      },
      "source": [
        "data[['birth_year']].max()"
      ],
      "execution_count": 8,
      "outputs": [
        {
          "output_type": "execute_result",
          "data": {
            "text/plain": [
              "birth_year    2009.0\n",
              "dtype: float64"
            ]
          },
          "metadata": {
            "tags": []
          },
          "execution_count": 8
        }
      ]
    },
    {
      "cell_type": "code",
      "metadata": {
        "id": "g6VtE2lEaWrw",
        "colab_type": "code",
        "outputId": "b6b1716a-55b1-4107-84eb-6da4798a3046",
        "colab": {
          "base_uri": "https://localhost:8080/",
          "height": 53
        }
      },
      "source": [
        "data[['birth_year']].mean()"
      ],
      "execution_count": 9,
      "outputs": [
        {
          "output_type": "execute_result",
          "data": {
            "text/plain": [
              "birth_year    1973.385542\n",
              "dtype: float64"
            ]
          },
          "metadata": {
            "tags": []
          },
          "execution_count": 9
        }
      ]
    },
    {
      "cell_type": "code",
      "metadata": {
        "id": "GEaz6SUgamzp",
        "colab_type": "code",
        "outputId": "7d8d2241-4c65-4fae-e2c9-8e15a81808a2",
        "colab": {
          "base_uri": "https://localhost:8080/",
          "height": 53
        }
      },
      "source": [
        "data[['birth_year']].std()"
      ],
      "execution_count": 10,
      "outputs": [
        {
          "output_type": "execute_result",
          "data": {
            "text/plain": [
              "birth_year    17.032825\n",
              "dtype: float64"
            ]
          },
          "metadata": {
            "tags": []
          },
          "execution_count": 10
        }
      ]
    },
    {
      "cell_type": "markdown",
      "metadata": {
        "id": "mxpFS4XD3of0",
        "colab_type": "text"
      },
      "source": [
        "**Section D** "
      ]
    },
    {
      "cell_type": "markdown",
      "metadata": {
        "id": "H72jzvd034zM",
        "colab_type": "text"
      },
      "source": [
        "Show the number of filed in 'region' column"
      ]
    },
    {
      "cell_type": "code",
      "metadata": {
        "id": "rx72L4aX3qZF",
        "colab_type": "code",
        "colab": {
          "base_uri": "https://localhost:8080/",
          "height": 35
        },
        "outputId": "abd379bb-50ff-44ce-d1ca-b9769a112251"
      },
      "source": [
        "data.region.count()"
      ],
      "execution_count": 11,
      "outputs": [
        {
          "output_type": "execute_result",
          "data": {
            "text/plain": [
              "166"
            ]
          },
          "metadata": {
            "tags": []
          },
          "execution_count": 11
        }
      ]
    },
    {
      "cell_type": "markdown",
      "metadata": {
        "id": "iIymSBR2cl1U",
        "colab_type": "text"
      },
      "source": [
        "**Section E**"
      ]
    },
    {
      "cell_type": "markdown",
      "metadata": {
        "id": "hnHTO0nc409G",
        "colab_type": "text"
      },
      "source": [
        "*As we know in section B, we have 176 entries and based on info about some columns like birth year and region and infection reason, etc. have less than 176 non-null data. So we have null cells. There are 5 known ways to handle null cells. one way is deleting the whole row and another is replacing it with mean so that it doesn't affect the results in a wrong way or using methods that support missing value or predict the missing values etc. we implement two of these strategies.*"
      ]
    },
    {
      "cell_type": "code",
      "metadata": {
        "id": "DEWP6brpdZEf",
        "colab_type": "code",
        "colab": {
          "base_uri": "https://localhost:8080/",
          "height": 35
        },
        "outputId": "96182f5d-b891-4d2d-92de-591158603328"
      },
      "source": [
        "data['birth_year'].isnull().sum()"
      ],
      "execution_count": 12,
      "outputs": [
        {
          "output_type": "execute_result",
          "data": {
            "text/plain": [
              "10"
            ]
          },
          "metadata": {
            "tags": []
          },
          "execution_count": 12
        }
      ]
    },
    {
      "cell_type": "code",
      "metadata": {
        "id": "XmT4aLqU6U1A",
        "colab_type": "code",
        "colab": {
          "base_uri": "https://localhost:8080/",
          "height": 35
        },
        "outputId": "db647f79-5315-44ce-8b41-8bce6e7b5fe8"
      },
      "source": [
        "data['birth_year'].mean()"
      ],
      "execution_count": 13,
      "outputs": [
        {
          "output_type": "execute_result",
          "data": {
            "text/plain": [
              "1973.3855421686746"
            ]
          },
          "metadata": {
            "tags": []
          },
          "execution_count": 13
        }
      ]
    },
    {
      "cell_type": "code",
      "metadata": {
        "id": "gmnaFy7B6W0B",
        "colab_type": "code",
        "colab": {
          "base_uri": "https://localhost:8080/",
          "height": 399
        },
        "outputId": "ca28fd74-9d2d-46e9-938b-782bb6974842"
      },
      "source": [
        "import numpy as np\n",
        "data['birth_year'].replace(np.NaN,data['birth_year'].mean()).head(20)"
      ],
      "execution_count": 14,
      "outputs": [
        {
          "output_type": "execute_result",
          "data": {
            "text/plain": [
              "0     1984.0\n",
              "1     1964.0\n",
              "2     1966.0\n",
              "3     1964.0\n",
              "4     1987.0\n",
              "5     1964.0\n",
              "6     1991.0\n",
              "7     1957.0\n",
              "8     1992.0\n",
              "9     1966.0\n",
              "10    1995.0\n",
              "11    1971.0\n",
              "12    1992.0\n",
              "13    1980.0\n",
              "14    1977.0\n",
              "15    1977.0\n",
              "16    1982.0\n",
              "17    1999.0\n",
              "18    1983.0\n",
              "19    1978.0\n",
              "Name: birth_year, dtype: float64"
            ]
          },
          "metadata": {
            "tags": []
          },
          "execution_count": 14
        }
      ]
    },
    {
      "cell_type": "markdown",
      "metadata": {
        "id": "qjnYt0judZmJ",
        "colab_type": "text"
      },
      "source": [
        "**Section F**"
      ]
    },
    {
      "cell_type": "code",
      "metadata": {
        "id": "kd8FlFVmddpy",
        "colab_type": "code",
        "outputId": "1f766032-fabb-4415-dadd-f30550fb7da5",
        "colab": {
          "base_uri": "https://localhost:8080/",
          "height": 317
        }
      },
      "source": [
        "import matplotlib.pyplot as plt\n",
        "data.hist(column='birth_year')"
      ],
      "execution_count": 15,
      "outputs": [
        {
          "output_type": "execute_result",
          "data": {
            "text/plain": [
              "array([[<matplotlib.axes._subplots.AxesSubplot object at 0x7f89e236eeb8>]],\n",
              "      dtype=object)"
            ]
          },
          "metadata": {
            "tags": []
          },
          "execution_count": 15
        },
        {
          "output_type": "display_data",
          "data": {
            "image/png": "[encoded data removed]",
            "text/plain": [
              "<Figure size 432x288 with 1 Axes>"
            ]
          },
          "metadata": {
            "tags": []
          }
        }
      ]
    },
    {
      "cell_type": "markdown",
      "metadata": {
        "id": "W0w_kTCPfQIJ",
        "colab_type": "text"
      },
      "source": [
        "**Section G**"
      ]
    },
    {
      "cell_type": "markdown",
      "metadata": {
        "id": "mKPPAUvz7eZ9",
        "colab_type": "text"
      },
      "source": [
        "In this data set, only column birth_year is a numeric pillar and we only need to check that outlier has taken place."
      ]
    },
    {
      "cell_type": "code",
      "metadata": {
        "id": "wn4J7E-nhBOZ",
        "colab_type": "code",
        "colab": {
          "base_uri": "https://localhost:8080/",
          "height": 298
        },
        "outputId": "352cd9ac-c2e5-48fd-da18-a36e36b49d66"
      },
      "source": [
        "import seaborn as sns\n",
        "sns.boxplot(x=data['birth_year'])"
      ],
      "execution_count": 16,
      "outputs": [
        {
          "output_type": "execute_result",
          "data": {
            "text/plain": [
              "<matplotlib.axes._subplots.AxesSubplot at 0x7f89d74424e0>"
            ]
          },
          "metadata": {
            "tags": []
          },
          "execution_count": 16
        },
        {
          "output_type": "display_data",
          "data": {
            "image/png": "[encoded data removed]",
            "text/plain": [
              "<Figure size 432x288 with 1 Axes>"
            ]
          },
          "metadata": {
            "tags": []
          }
        }
      ]
    },
    {
      "cell_type": "markdown",
      "metadata": {
        "id": "4JlUUcOm8O68",
        "colab_type": "text"
      },
      "source": [
        "However, based on section F, we may suppose people born between 2000 and 2010 or 1940 and 1950 are outliers because they are so few. In larger scales, we should delete or replace these from the dataset so that we get better performance."
      ]
    },
    {
      "cell_type": "code",
      "metadata": {
        "id": "LB6GbamU6wPp",
        "colab_type": "code",
        "colab": {
          "base_uri": "https://localhost:8080/",
          "height": 265
        },
        "outputId": "8efeb719-c16b-4b1d-ad21-7dfa7724a7c4"
      },
      "source": [
        "import matplotlib.pyplot as plt\n",
        "from collections import Counter\n",
        "\n",
        "data_dict = dict(Counter(data['birth_year']))\n",
        "data_lists = sorted(data_dict.items()) \n",
        "x,y = zip(*data_lists)\n",
        "plt.scatter(x,y)\n",
        "plt.show()"
      ],
      "execution_count": 17,
      "outputs": [
        {
          "output_type": "display_data",
          "data": {
            "image/png": "[encoded data removed]",
            "text/plain": [
              "<Figure size 432x288 with 1 Axes>"
            ]
          },
          "metadata": {
            "tags": []
          }
        }
      ]
    }
  ]
}